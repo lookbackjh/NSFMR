{
 "cells": [
  {
   "cell_type": "code",
   "execution_count": 45,
   "metadata": {},
   "outputs": [],
   "source": [
    "# movielens 100k\n",
    "import pandas as pd\n",
    "rating=pd.read_csv('dataset/ml-100k/u.data',sep='\\t',names=['user_id','movie_id','rating','timestamp'])\n",
    "rating=rating.drop('timestamp',axis=1)\n",
    "#userinfo\n",
    "userinfo=pd.read_csv('dataset/ml-100k/u.user',sep='|', names=['age','gender','occupation','zipcode'])\n",
    "userinfo.drop('zipcode',axis=1,inplace=True)\n",
    "userinfo['user_id']=userinfo.index\n",
    "userinfo=pd.get_dummies(columns=['occupation'],data=userinfo)\n",
    "# need to check movie frequency and user frequency\n",
    "# movieinfo\n",
    "rating['movie_id'].value_counts()\n",
    "# show movies where value count is more than 10\n",
    "rating['movie_id'].value_counts()[rating['movie_id'].value_counts()>10]\n",
    "\n",
    "# for every rating, i want to add column named 'movie_frequency' and 'user_frequency'\n",
    "\n",
    "# add movie_frequency\n",
    "rating['movie_frequency']=rating['movie_id'].map(rating['movie_id'].value_counts())\n",
    "# add user_frequency\n",
    "rating['user_frequency']=rating['user_id'].map(rating['user_id'].value_counts())\n",
    "# import copy\n",
    "# df=copy.deepcopy(rating)\n",
    "# a=copy.deepcopy(rating)\n",
    "rating['c']=1\n",
    "rating['target']=1\n",
    "rating.drop('rating',axis=1,inplace=True)\n",
    "# userinfo=userinfo.drop('zipcode',axis=1)\n",
    "\n",
    "# userinfo=pd.get_dummies(columns=['occupation'],data=userinfo)"
   ]
  },
  {
   "cell_type": "code",
   "execution_count": 46,
   "metadata": {},
   "outputs": [],
   "source": [
    "users=[]\n",
    "# there are number of movies for each user\n",
    "movies=[]\n",
    "for i in rating['user_id'].unique()[:]:\n",
    "    for j in rating['movie_id'].unique():\n",
    "        users.append(i)\n",
    "        movies.append(j)"
   ]
  },
  {
   "cell_type": "code",
   "execution_count": 47,
   "metadata": {},
   "outputs": [],
   "source": [
    "temp=pd.DataFrame({'user_id':users,'movie_id':movies})\n",
    "temp['movie_frequency']=temp['movie_id'].map(rating['movie_id'].value_counts())\n",
    "temp['user_frequency']=temp['user_id'].map(rating['user_id'].value_counts())\n",
    "temp['c']=1\n",
    "temp['target']=1"
   ]
  },
  {
   "cell_type": "code",
   "execution_count": 48,
   "metadata": {},
   "outputs": [],
   "source": [
    "g=[]\n",
    "for i in userinfo['gender']:\n",
    "    if i=='M':\n",
    "        i=1\n",
    "    else:\n",
    "        i=0\n",
    "    g.append(i)\n",
    "    "
   ]
  },
  {
   "cell_type": "code",
   "execution_count": 49,
   "metadata": {},
   "outputs": [],
   "source": [
    "userinfo['gender'] =g"
   ]
  },
  {
   "cell_type": "code",
   "execution_count": 50,
   "metadata": {},
   "outputs": [],
   "source": [
    "movieinfo=pd.read_csv('dataset/ml-100k/u.item',sep='|',names=['movie_id','movie_title','release_date','video_release_date','IMDb_URL','unknown','Action','Adventure','Animation','Children','Comedy','Crime','Documentary','Drama','Fantasy','Film_Noir','Horror','Musical','Mystery','Romance','Sci_Fi','Thriller','War','Western'],encoding='latin-1')\n",
    "movieinfo.drop(['movie_title','release_date','video_release_date','IMDb_URL'],axis=1,inplace=True)\n",
    "movieinfoadded=pd.merge(temp,movieinfo,on='movie_id',how='left')\n",
    "\n",
    "userinfoadded=pd.merge(movieinfoadded,userinfo,on='user_id',how='left')"
   ]
  },
  {
   "cell_type": "code",
   "execution_count": 53,
   "metadata": {},
   "outputs": [
    {
     "data": {
      "text/plain": [
       "Index(['user_id', 'movie_id', 'movie_frequency', 'user_frequency', 'c',\n",
       "       'target', 'unknown', 'Action', 'Adventure', 'Animation', 'Children',\n",
       "       'Comedy', 'Crime', 'Documentary', 'Drama', 'Fantasy', 'Film_Noir',\n",
       "       'Horror', 'Musical', 'Mystery', 'Romance', 'Sci_Fi', 'Thriller', 'War',\n",
       "       'Western', 'age', 'gender', 'occupation_administrator',\n",
       "       'occupation_artist', 'occupation_doctor', 'occupation_educator',\n",
       "       'occupation_engineer', 'occupation_entertainment',\n",
       "       'occupation_executive', 'occupation_healthcare', 'occupation_homemaker',\n",
       "       'occupation_lawyer', 'occupation_librarian', 'occupation_marketing',\n",
       "       'occupation_none', 'occupation_other', 'occupation_programmer',\n",
       "       'occupation_retired', 'occupation_salesman', 'occupation_scientist',\n",
       "       'occupation_student', 'occupation_technician', 'occupation_writer'],\n",
       "      dtype='object')"
      ]
     },
     "execution_count": 53,
     "metadata": {},
     "output_type": "execute_result"
    }
   ],
   "source": [
    "userinfoadded.columns"
   ]
  },
  {
   "cell_type": "code",
   "execution_count": 54,
   "metadata": {},
   "outputs": [],
   "source": [
    "userinfoadded.to_csv('original.pickle')"
   ]
  },
  {
   "cell_type": "code",
   "execution_count": 57,
   "metadata": {},
   "outputs": [],
   "source": [
    "userinfoadded.astype('float' ).to_csv('original_float.csv')"
   ]
  },
  {
   "cell_type": "code",
   "execution_count": 58,
   "metadata": {},
   "outputs": [
    {
     "data": {
      "text/plain": [
       "0          1\n",
       "1          1\n",
       "2          1\n",
       "3          1\n",
       "4          1\n",
       "          ..\n",
       "1586121    1\n",
       "1586122    1\n",
       "1586123    1\n",
       "1586124    1\n",
       "1586125    1\n",
       "Name: c, Length: 1586126, dtype: int64"
      ]
     },
     "execution_count": 58,
     "metadata": {},
     "output_type": "execute_result"
    }
   ],
   "source": [
    "userinfoadded['c']\n"
   ]
  }
 ],
 "metadata": {
  "kernelspec": {
   "display_name": ".venv",
   "language": "python",
   "name": "python3"
  },
  "language_info": {
   "codemirror_mode": {
    "name": "ipython",
    "version": 3
   },
   "file_extension": ".py",
   "mimetype": "text/x-python",
   "name": "python",
   "nbconvert_exporter": "python",
   "pygments_lexer": "ipython3",
   "version": "3.10.12"
  },
  "orig_nbformat": 4
 },
 "nbformat": 4,
 "nbformat_minor": 2
}
